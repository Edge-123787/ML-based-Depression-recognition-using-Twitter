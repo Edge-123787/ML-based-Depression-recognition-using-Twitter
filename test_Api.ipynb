{
 "cells": [
  {
   "cell_type": "code",
   "execution_count": 1,
   "metadata": {
    "colab": {
     "base_uri": "https://localhost:8080/",
     "height": 241
    },
    "executionInfo": {
     "elapsed": 464,
     "status": "ok",
     "timestamp": 1652197192116,
     "user": {
      "displayName": "Gautam Suri",
      "userId": "08970736233544068853"
     },
     "user_tz": -330
    },
    "id": "AZTS_fKdsNpU",
    "outputId": "061720e7-d5f0-42d7-dd80-2a56eaf050c0"
   },
   "outputs": [
    {
     "data": {
      "text/html": [
       "<div>\n",
       "<style scoped>\n",
       "    .dataframe tbody tr th:only-of-type {\n",
       "        vertical-align: middle;\n",
       "    }\n",
       "\n",
       "    .dataframe tbody tr th {\n",
       "        vertical-align: top;\n",
       "    }\n",
       "\n",
       "    .dataframe thead th {\n",
       "        text-align: right;\n",
       "    }\n",
       "</style>\n",
       "<table border=\"1\" class=\"dataframe\">\n",
       "  <thead>\n",
       "    <tr style=\"text-align: right;\">\n",
       "      <th></th>\n",
       "      <th>tweet_createdate</th>\n",
       "      <th>tweet_userid</th>\n",
       "      <th>tweet_full_text</th>\n",
       "      <th>status</th>\n",
       "    </tr>\n",
       "  </thead>\n",
       "  <tbody>\n",
       "    <tr>\n",
       "      <th>0</th>\n",
       "      <td>2022-05-01 14:47:53</td>\n",
       "      <td>b'78735161'</td>\n",
       "      <td>b'@SouthernHomo I still listen to this song re...</td>\n",
       "      <td>0</td>\n",
       "    </tr>\n",
       "    <tr>\n",
       "      <th>1</th>\n",
       "      <td>2022-05-01 14:47:53</td>\n",
       "      <td>b'858321885209088001'</td>\n",
       "      <td>b'@TheSheDM @dmdavidblog 6. The Guardian left\\...</td>\n",
       "      <td>0</td>\n",
       "    </tr>\n",
       "    <tr>\n",
       "      <th>2</th>\n",
       "      <td>2022-05-01 14:47:53</td>\n",
       "      <td>b'4243887621'</td>\n",
       "      <td>b'@YahPeng @bigpapacalzeus I know i think I\\xe...</td>\n",
       "      <td>0</td>\n",
       "    </tr>\n",
       "    <tr>\n",
       "      <th>3</th>\n",
       "      <td>2022-05-01 14:47:53</td>\n",
       "      <td>b'1080902188883427328'</td>\n",
       "      <td>b'@he4venlyy @JeffreeStar I\\xe2\\x80\\x99m so de...</td>\n",
       "      <td>0</td>\n",
       "    </tr>\n",
       "    <tr>\n",
       "      <th>4</th>\n",
       "      <td>2022-05-01 14:47:53</td>\n",
       "      <td>b'1113133679965097984'</td>\n",
       "      <td>b'@velvetchoke I never know how to respond to ...</td>\n",
       "      <td>0</td>\n",
       "    </tr>\n",
       "  </tbody>\n",
       "</table>\n",
       "</div>"
      ],
      "text/plain": [
       "      tweet_createdate            tweet_userid  \\\n",
       "0  2022-05-01 14:47:53             b'78735161'   \n",
       "1  2022-05-01 14:47:53   b'858321885209088001'   \n",
       "2  2022-05-01 14:47:53           b'4243887621'   \n",
       "3  2022-05-01 14:47:53  b'1080902188883427328'   \n",
       "4  2022-05-01 14:47:53  b'1113133679965097984'   \n",
       "\n",
       "                                     tweet_full_text  status  \n",
       "0  b'@SouthernHomo I still listen to this song re...       0  \n",
       "1  b'@TheSheDM @dmdavidblog 6. The Guardian left\\...       0  \n",
       "2  b'@YahPeng @bigpapacalzeus I know i think I\\xe...       0  \n",
       "3  b'@he4venlyy @JeffreeStar I\\xe2\\x80\\x99m so de...       0  \n",
       "4  b'@velvetchoke I never know how to respond to ...       0  "
      ]
     },
     "execution_count": 1,
     "metadata": {},
     "output_type": "execute_result"
    }
   ],
   "source": [
    "import pandas as pd\n",
    "import re\n",
    "from nltk.corpus import stopwords\n",
    "import pickle\n",
    "import unicodedata\n",
    "df_final = pd.read_csv('final.csv')\n",
    "df_final.head()\n",
    "\n"
   ]
  },
  {
   "cell_type": "code",
   "execution_count": null,
   "metadata": {
    "colab": {
     "base_uri": "https://localhost:8080/"
    },
    "executionInfo": {
     "elapsed": 467,
     "status": "ok",
     "timestamp": 1652197197337,
     "user": {
      "displayName": "Gautam Suri",
      "userId": "08970736233544068853"
     },
     "user_tz": -330
    },
    "id": "h_E_H6d6cYFM",
    "outputId": "f244275b-8966-47f4-f802-3573c87d9c70"
   },
   "outputs": [],
   "source": [
    "df_final.info()"
   ]
  },
  {
   "cell_type": "code",
   "execution_count": null,
   "metadata": {
    "executionInfo": {
     "elapsed": 480,
     "status": "ok",
     "timestamp": 1652197203452,
     "user": {
      "displayName": "Gautam Suri",
      "userId": "08970736233544068853"
     },
     "user_tz": -330
    },
    "id": "gK1FEIXxtzaW"
   },
   "outputs": [],
   "source": [
    "def preprocess(tweet):\n",
    "\n",
    "    tweet = re.sub(r\"http\\S+\", \" \", tweet)\n",
    "   \n",
    "    tweet = re.sub(r\"@\\S+\", \" \", tweet)\n",
    "   \n",
    "    tweet = re.sub(r\"RT\", \" \", tweet)\n",
    "    \n",
    "    tweet = re.sub(r\"\\_\", \" \", tweet)\n",
    "    tweet = re.sub(r\"^https://t.co/[a-zA-Z0-9]*\\s\", \" \", tweet)\n",
    "    tweet = re.sub(r\"\\s+https://t.co/[a-zA-Z0-9]*\\s\", \" \", tweet)\n",
    "    tweet = re.sub(r\"\\s+https://t.co/[a-zA-Z0-9]*$\", \" \", tweet)\n",
    "    tweet = tweet.lower()\n",
    "    tweet = re.sub(r\"that's\",\"that is\",tweet)\n",
    "    tweet = re.sub(r\"there's\",\"there is\",tweet)\n",
    "    tweet = re.sub(r\"what's\",\"what is\",tweet)\n",
    "    tweet = re.sub(r\"where's\",\"where is\",tweet)\n",
    "    tweet = re.sub(r\"it's\",\"it is\",tweet)\n",
    "    tweet = re.sub(r\"who's\",\"who is\",tweet)\n",
    "    tweet = re.sub(r\"i'm\",\"i am\",tweet)\n",
    "    tweet = re.sub(r\"she's\",\"she is\",tweet)\n",
    "    tweet = re.sub(r\"he's\",\"he is\",tweet)\n",
    "    tweet = re.sub(r\"they're\",\"they are\",tweet)\n",
    "    tweet = re.sub(r\"who're\",\"who are\",tweet)\n",
    "    tweet = re.sub(r\"ain't\",\"am not\",tweet)\n",
    "    tweet = re.sub(r\"wouldn't\",\"would not\",tweet)\n",
    "    tweet = re.sub(r\"shouldn't\",\"should not\",tweet)\n",
    "    tweet = re.sub(r\"can't\",\"can not\",tweet)\n",
    "    tweet = re.sub(r\"couldn't\",\"could not\",tweet)\n",
    "    tweet = re.sub(r\"won't\",\"will not\",tweet)\n",
    "    tweet = re.sub(r\"\\W\",\" \",tweet)\n",
    " \n",
    "    tweet=re.sub(r\"\\b[a-z]\\b\",\" \",tweet)\n",
    "    tweet = re.sub(r\"\\d\",\" \",tweet)\n",
    "    tweet = re.sub(r\"\\s+[a-z]\\s+\",\" \",tweet)\n",
    "    tweet = re.sub(r\"\\s+[a-z]$\",\" \",tweet)\n",
    "    tweet = re.sub(r\"^[a-z]\\s+\",\" \",tweet)\n",
    "    tweet = re.sub(r\"\\s+\",\" \",tweet)\n",
    "    \n",
    "   \n",
    "    \n",
    "    return tweet\n",
    "\n",
    "def clean_tweet(tweet):\n",
    "   \n",
    "    tweet=unicodedata.normalize('NFC', tweet).encode('ascii','replace')\n",
    "    tweet=tweet.decode('utf8')\n",
    "    tweet=preprocess(tweet)\n",
    "    return tweet\n"
   ]
  },
  {
   "cell_type": "code",
   "execution_count": null,
   "metadata": {
    "colab": {
     "base_uri": "https://localhost:8080/"
    },
    "executionInfo": {
     "elapsed": 707,
     "status": "ok",
     "timestamp": 1652197210514,
     "user": {
      "displayName": "Gautam Suri",
      "userId": "08970736233544068853"
     },
     "user_tz": -330
    },
    "id": "TYdYEctftzlQ",
    "outputId": "854f4a38-a645-4ccf-8fbd-4c358122df9a"
   },
   "outputs": [],
   "source": [
    "z=df_final.tweet_full_text.apply(clean_tweet)\n",
    "\n"
   ]
  },
  {
   "cell_type": "code",
   "execution_count": null,
   "metadata": {
    "executionInfo": {
     "elapsed": 413,
     "status": "ok",
     "timestamp": 1652197214874,
     "user": {
      "displayName": "Gautam Suri",
      "userId": "08970736233544068853"
     },
     "user_tz": -330
    },
    "id": "MOxtZ9H67_Y3"
   },
   "outputs": [],
   "source": [
    "with open('tfidfmodel.pickle','rb') as f:\n",
    "    tfidf = pickle.load(f)"
   ]
  },
  {
   "cell_type": "code",
   "execution_count": null,
   "metadata": {
    "executionInfo": {
     "elapsed": 11,
     "status": "ok",
     "timestamp": 1652197217951,
     "user": {
      "displayName": "Gautam Suri",
      "userId": "08970736233544068853"
     },
     "user_tz": -330
    },
    "id": "Y4AZhzxfCYHE"
   },
   "outputs": [],
   "source": [
    "\n",
    "z=tfidf.transform(z).toarray()\n",
    "\n",
    "w=df_final[\"status\"]\n"
   ]
  },
  {
   "cell_type": "code",
   "execution_count": null,
   "metadata": {
    "executionInfo": {
     "elapsed": 9,
     "status": "ok",
     "timestamp": 1652197220857,
     "user": {
      "displayName": "Gautam Suri",
      "userId": "08970736233544068853"
     },
     "user_tz": -330
    },
    "id": "mFx4121vDwre"
   },
   "outputs": [],
   "source": [
    "with open('logis.pkl', 'rb') as f:\n",
    "    c1 = pickle.load(f)"
   ]
  },
  {
   "cell_type": "code",
   "execution_count": null,
   "metadata": {},
   "outputs": [],
   "source": [
    "sent_pred11 = c1.predict(z)\n",
    "print(sent_pred11[0:10])"
   ]
  },
  {
   "cell_type": "code",
   "execution_count": null,
   "metadata": {},
   "outputs": [],
   "source": [
    "from sklearn.metrics import confusion_matrix\n",
    "cm = confusion_matrix(w, sent_pred11)\n",
    "print(cm)"
   ]
  },
  {
   "cell_type": "code",
   "execution_count": null,
   "metadata": {},
   "outputs": [],
   "source": [
    "round(c1.score(z,w), 4)"
   ]
  },
  {
   "cell_type": "code",
   "execution_count": null,
   "metadata": {},
   "outputs": [],
   "source": [
    "from sklearn.metrics import classification_report\n",
    "target_names = ['class 0/Positive', 'class 1/Negative']\n",
    "print(classification_report(df_final[\"status\"], sent_pred11, target_names=target_names,digits=4))"
   ]
  },
  {
   "cell_type": "code",
   "execution_count": null,
   "metadata": {},
   "outputs": [],
   "source": [
    "with open('multi.pkl', 'rb') as f:\n",
    "    c2 = pickle.load(f)"
   ]
  },
  {
   "cell_type": "code",
   "execution_count": null,
   "metadata": {},
   "outputs": [],
   "source": [
    "sent_pred22 = c2.predict(z)\n",
    "print(sent_pred22[0:10])"
   ]
  },
  {
   "cell_type": "code",
   "execution_count": null,
   "metadata": {},
   "outputs": [],
   "source": [
    "cm2 = confusion_matrix(w, sent_pred22)\n",
    "print(cm2)"
   ]
  },
  {
   "cell_type": "code",
   "execution_count": null,
   "metadata": {},
   "outputs": [],
   "source": [
    "round(c2.score(z,w), 4)"
   ]
  },
  {
   "cell_type": "code",
   "execution_count": null,
   "metadata": {},
   "outputs": [],
   "source": [
    "print(classification_report(df_final[\"status\"], sent_pred22, target_names=target_names,digits=4))"
   ]
  },
  {
   "cell_type": "code",
   "execution_count": null,
   "metadata": {},
   "outputs": [],
   "source": [
    "with open('gauss.pkl', 'rb') as f:\n",
    "    c3 = pickle.load(f)"
   ]
  },
  {
   "cell_type": "code",
   "execution_count": null,
   "metadata": {},
   "outputs": [],
   "source": [
    "sent_pred33 = c3.predict(z)\n",
    "print(sent_pred33[0:10])"
   ]
  },
  {
   "cell_type": "code",
   "execution_count": null,
   "metadata": {},
   "outputs": [],
   "source": [
    "cm3 = confusion_matrix(w, sent_pred33)\n",
    "print(cm3)"
   ]
  },
  {
   "cell_type": "code",
   "execution_count": null,
   "metadata": {},
   "outputs": [],
   "source": [
    "round(c3.score(z,w), 4)"
   ]
  },
  {
   "cell_type": "code",
   "execution_count": null,
   "metadata": {},
   "outputs": [],
   "source": [
    "print(classification_report(df_final[\"status\"], sent_pred33, target_names=target_names,digits=4))"
   ]
  },
  {
   "cell_type": "code",
   "execution_count": null,
   "metadata": {
    "colab": {
     "base_uri": "https://localhost:8080/"
    },
    "executionInfo": {
     "elapsed": 436,
     "status": "ok",
     "timestamp": 1652197247241,
     "user": {
      "displayName": "Gautam Suri",
      "userId": "08970736233544068853"
     },
     "user_tz": -330
    },
    "id": "q9NVv6a7JFp8",
    "outputId": "3ea6be65-246d-4d39-9306-c9525a658d2a"
   },
   "outputs": [],
   "source": [
    "sample = [\"i am depressed\"]\n",
    "sample = tfidf.transform(sample).toarray()\n",
    "sentiment22 = c1.predict(sample)\n",
    "sentiment22[0]"
   ]
  },
  {
   "cell_type": "code",
   "execution_count": null,
   "metadata": {},
   "outputs": [],
   "source": []
  }
 ],
 "metadata": {
  "colab": {
   "authorship_tag": "ABX9TyMCwiFBRfXcy+fiKNIGcP2I",
   "collapsed_sections": [],
   "mount_file_id": "13dP0027P82cZnNB6dt-fxjx1G0Eb5nZX",
   "name": "test_Api.ipynb",
   "provenance": []
  },
  "kernelspec": {
   "display_name": "Python 3 (ipykernel)",
   "language": "python",
   "name": "python3"
  },
  "language_info": {
   "codemirror_mode": {
    "name": "ipython",
    "version": 3
   },
   "file_extension": ".py",
   "mimetype": "text/x-python",
   "name": "python",
   "nbconvert_exporter": "python",
   "pygments_lexer": "ipython3",
   "version": "3.9.7"
  }
 },
 "nbformat": 4,
 "nbformat_minor": 1
}
