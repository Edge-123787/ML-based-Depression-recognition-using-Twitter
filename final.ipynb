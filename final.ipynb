{
 "cells": [
  {
   "cell_type": "code",
   "execution_count": 1,
   "id": "3e8e217c-ad74-44b9-baed-360e6c80a0e9",
   "metadata": {
    "colab": {
     "base_uri": "https://localhost:8080/",
     "height": 241
    },
    "executionInfo": {
     "elapsed": 3907,
     "status": "ok",
     "timestamp": 1652460263583,
     "user": {
      "displayName": "Gautam Suri",
      "userId": "08970736233544068853"
     },
     "user_tz": -330
    },
    "id": "3e8e217c-ad74-44b9-baed-360e6c80a0e9",
    "outputId": "e74511f2-6018-4102-ed4f-fe1b77d6d6a0"
   },
   "outputs": [
    {
     "data": {
      "text/html": [
       "<div>\n",
       "<style scoped>\n",
       "    .dataframe tbody tr th:only-of-type {\n",
       "        vertical-align: middle;\n",
       "    }\n",
       "\n",
       "    .dataframe tbody tr th {\n",
       "        vertical-align: top;\n",
       "    }\n",
       "\n",
       "    .dataframe thead th {\n",
       "        text-align: right;\n",
       "    }\n",
       "</style>\n",
       "<table border=\"1\" class=\"dataframe\">\n",
       "  <thead>\n",
       "    <tr style=\"text-align: right;\">\n",
       "      <th></th>\n",
       "      <th>tweet_id</th>\n",
       "      <th>sentiment</th>\n",
       "      <th>author</th>\n",
       "      <th>content</th>\n",
       "    </tr>\n",
       "  </thead>\n",
       "  <tbody>\n",
       "    <tr>\n",
       "      <th>0</th>\n",
       "      <td>1956967341</td>\n",
       "      <td>empty</td>\n",
       "      <td>xoshayzers</td>\n",
       "      <td>@tiffanylue i know  i was listenin to bad habi...</td>\n",
       "    </tr>\n",
       "    <tr>\n",
       "      <th>1</th>\n",
       "      <td>1956967666</td>\n",
       "      <td>sadness</td>\n",
       "      <td>wannamama</td>\n",
       "      <td>Layin n bed with a headache  ughhhh...waitin o...</td>\n",
       "    </tr>\n",
       "    <tr>\n",
       "      <th>2</th>\n",
       "      <td>1956967696</td>\n",
       "      <td>sadness</td>\n",
       "      <td>coolfunky</td>\n",
       "      <td>Funeral ceremony...gloomy friday...</td>\n",
       "    </tr>\n",
       "    <tr>\n",
       "      <th>3</th>\n",
       "      <td>1956967789</td>\n",
       "      <td>enthusiasm</td>\n",
       "      <td>czareaquino</td>\n",
       "      <td>wants to hang out with friends SOON!</td>\n",
       "    </tr>\n",
       "    <tr>\n",
       "      <th>4</th>\n",
       "      <td>1956968416</td>\n",
       "      <td>neutral</td>\n",
       "      <td>xkilljoyx</td>\n",
       "      <td>@dannycastillo We want to trade with someone w...</td>\n",
       "    </tr>\n",
       "  </tbody>\n",
       "</table>\n",
       "</div>"
      ],
      "text/plain": [
       "     tweet_id   sentiment       author  \\\n",
       "0  1956967341       empty   xoshayzers   \n",
       "1  1956967666     sadness    wannamama   \n",
       "2  1956967696     sadness    coolfunky   \n",
       "3  1956967789  enthusiasm  czareaquino   \n",
       "4  1956968416     neutral    xkilljoyx   \n",
       "\n",
       "                                             content  \n",
       "0  @tiffanylue i know  i was listenin to bad habi...  \n",
       "1  Layin n bed with a headache  ughhhh...waitin o...  \n",
       "2                Funeral ceremony...gloomy friday...  \n",
       "3               wants to hang out with friends SOON!  \n",
       "4  @dannycastillo We want to trade with someone w...  "
      ]
     },
     "execution_count": 1,
     "metadata": {},
     "output_type": "execute_result"
    }
   ],
   "source": [
    "import pandas as pd\n",
    "import re\n",
    "from nltk.corpus import stopwords\n",
    "import unicodedata\n",
    "\n",
    "df= pd.read_csv(\"text_emotion.csv\")\n",
    "df.head()"
   ]
  },
  {
   "cell_type": "code",
   "execution_count": 2,
   "id": "bb6c77ef-cebb-4e14-b643-36396fe6dcd8",
   "metadata": {
    "colab": {
     "base_uri": "https://localhost:8080/"
    },
    "executionInfo": {
     "elapsed": 95,
     "status": "ok",
     "timestamp": 1652460263585,
     "user": {
      "displayName": "Gautam Suri",
      "userId": "08970736233544068853"
     },
     "user_tz": -330
    },
    "id": "bb6c77ef-cebb-4e14-b643-36396fe6dcd8",
    "outputId": "f1c0d48d-578a-43cd-9ecf-7c11e5358d94"
   },
   "outputs": [
    {
     "name": "stdout",
     "output_type": "stream",
     "text": [
      "<class 'pandas.core.frame.DataFrame'>\n",
      "RangeIndex: 40000 entries, 0 to 39999\n",
      "Data columns (total 4 columns):\n",
      " #   Column     Non-Null Count  Dtype \n",
      "---  ------     --------------  ----- \n",
      " 0   tweet_id   40000 non-null  int64 \n",
      " 1   sentiment  40000 non-null  object\n",
      " 2   author     40000 non-null  object\n",
      " 3   content    40000 non-null  object\n",
      "dtypes: int64(1), object(3)\n",
      "memory usage: 1.2+ MB\n"
     ]
    }
   ],
   "source": [
    "df.info()"
   ]
  },
  {
   "cell_type": "code",
   "execution_count": 3,
   "id": "a4e64091-54ca-4339-ae0e-083d05ec2587",
   "metadata": {
    "colab": {
     "base_uri": "https://localhost:8080/",
     "height": 300
    },
    "executionInfo": {
     "elapsed": 87,
     "status": "ok",
     "timestamp": 1652460263593,
     "user": {
      "displayName": "Gautam Suri",
      "userId": "08970736233544068853"
     },
     "user_tz": -330
    },
    "id": "a4e64091-54ca-4339-ae0e-083d05ec2587",
    "outputId": "25fe4e1f-9bf1-4147-8400-f3d2d054aaa0"
   },
   "outputs": [
    {
     "data": {
      "text/html": [
       "<div>\n",
       "<style scoped>\n",
       "    .dataframe tbody tr th:only-of-type {\n",
       "        vertical-align: middle;\n",
       "    }\n",
       "\n",
       "    .dataframe tbody tr th {\n",
       "        vertical-align: top;\n",
       "    }\n",
       "\n",
       "    .dataframe thead th {\n",
       "        text-align: right;\n",
       "    }\n",
       "</style>\n",
       "<table border=\"1\" class=\"dataframe\">\n",
       "  <thead>\n",
       "    <tr style=\"text-align: right;\">\n",
       "      <th></th>\n",
       "      <th>tweet_id</th>\n",
       "    </tr>\n",
       "  </thead>\n",
       "  <tbody>\n",
       "    <tr>\n",
       "      <th>count</th>\n",
       "      <td>4.000000e+04</td>\n",
       "    </tr>\n",
       "    <tr>\n",
       "      <th>mean</th>\n",
       "      <td>1.845184e+09</td>\n",
       "    </tr>\n",
       "    <tr>\n",
       "      <th>std</th>\n",
       "      <td>1.188579e+08</td>\n",
       "    </tr>\n",
       "    <tr>\n",
       "      <th>min</th>\n",
       "      <td>1.693956e+09</td>\n",
       "    </tr>\n",
       "    <tr>\n",
       "      <th>25%</th>\n",
       "      <td>1.751431e+09</td>\n",
       "    </tr>\n",
       "    <tr>\n",
       "      <th>50%</th>\n",
       "      <td>1.855443e+09</td>\n",
       "    </tr>\n",
       "    <tr>\n",
       "      <th>75%</th>\n",
       "      <td>1.962781e+09</td>\n",
       "    </tr>\n",
       "    <tr>\n",
       "      <th>max</th>\n",
       "      <td>1.966441e+09</td>\n",
       "    </tr>\n",
       "  </tbody>\n",
       "</table>\n",
       "</div>"
      ],
      "text/plain": [
       "           tweet_id\n",
       "count  4.000000e+04\n",
       "mean   1.845184e+09\n",
       "std    1.188579e+08\n",
       "min    1.693956e+09\n",
       "25%    1.751431e+09\n",
       "50%    1.855443e+09\n",
       "75%    1.962781e+09\n",
       "max    1.966441e+09"
      ]
     },
     "execution_count": 3,
     "metadata": {},
     "output_type": "execute_result"
    }
   ],
   "source": [
    "df.describe()"
   ]
  },
  {
   "cell_type": "code",
   "execution_count": 4,
   "id": "15d43614-e2f1-4d7a-90ce-613c95ed71f8",
   "metadata": {
    "colab": {
     "base_uri": "https://localhost:8080/"
    },
    "executionInfo": {
     "elapsed": 89,
     "status": "ok",
     "timestamp": 1652460263602,
     "user": {
      "displayName": "Gautam Suri",
      "userId": "08970736233544068853"
     },
     "user_tz": -330
    },
    "id": "15d43614-e2f1-4d7a-90ce-613c95ed71f8",
    "outputId": "135f88cd-5454-485f-82b3-0d2d2c5f0ada"
   },
   "outputs": [
    {
     "name": "stdout",
     "output_type": "stream",
     "text": [
      "0        False\n",
      "1        False\n",
      "2        False\n",
      "3        False\n",
      "4        False\n",
      "         ...  \n",
      "39995    False\n",
      "39996    False\n",
      "39997    False\n",
      "39998    False\n",
      "39999    False\n",
      "Length: 40000, dtype: bool\n"
     ]
    }
   ],
   "source": [
    "print(df.duplicated())\n"
   ]
  },
  {
   "cell_type": "code",
   "execution_count": 5,
   "id": "a84b7bd9-9eea-41a9-9e93-723f0e813237",
   "metadata": {
    "colab": {
     "base_uri": "https://localhost:8080/"
    },
    "executionInfo": {
     "elapsed": 93,
     "status": "ok",
     "timestamp": 1652460263622,
     "user": {
      "displayName": "Gautam Suri",
      "userId": "08970736233544068853"
     },
     "user_tz": -330
    },
    "id": "a84b7bd9-9eea-41a9-9e93-723f0e813237",
    "outputId": "e40ef8dd-8c56-4f57-fef4-a1e3647f97b1"
   },
   "outputs": [
    {
     "name": "stdout",
     "output_type": "stream",
     "text": [
      "0\n"
     ]
    }
   ],
   "source": [
    "print(df.duplicated().sum())"
   ]
  },
  {
   "cell_type": "code",
   "execution_count": 6,
   "id": "7vkBF_chSXER",
   "metadata": {
    "colab": {
     "base_uri": "https://localhost:8080/"
    },
    "executionInfo": {
     "elapsed": 85,
     "status": "ok",
     "timestamp": 1652460263623,
     "user": {
      "displayName": "Gautam Suri",
      "userId": "08970736233544068853"
     },
     "user_tz": -330
    },
    "id": "7vkBF_chSXER",
    "outputId": "1553b443-aed2-4dff-89a7-fa9b74f8ef5d"
   },
   "outputs": [
    {
     "data": {
      "text/plain": [
       "13"
      ]
     },
     "execution_count": 6,
     "metadata": {},
     "output_type": "execute_result"
    }
   ],
   "source": [
    "len(set(df.sentiment))"
   ]
  },
  {
   "cell_type": "code",
   "execution_count": 7,
   "id": "L_czEMvdYPrL",
   "metadata": {
    "colab": {
     "base_uri": "https://localhost:8080/"
    },
    "executionInfo": {
     "elapsed": 90,
     "status": "ok",
     "timestamp": 1652460263634,
     "user": {
      "displayName": "Gautam Suri",
      "userId": "08970736233544068853"
     },
     "user_tz": -330
    },
    "id": "L_czEMvdYPrL",
    "outputId": "2cdb3858-e703-423a-adbc-ff2f9f19e596"
   },
   "outputs": [
    {
     "data": {
      "text/plain": [
       "{'anger',\n",
       " 'boredom',\n",
       " 'empty',\n",
       " 'enthusiasm',\n",
       " 'fun',\n",
       " 'happiness',\n",
       " 'hate',\n",
       " 'love',\n",
       " 'neutral',\n",
       " 'relief',\n",
       " 'sadness',\n",
       " 'surprise',\n",
       " 'worry'}"
      ]
     },
     "execution_count": 7,
     "metadata": {},
     "output_type": "execute_result"
    }
   ],
   "source": [
    "set(df.sentiment)"
   ]
  },
  {
   "cell_type": "code",
   "execution_count": 8,
   "id": "97c5dabe-dcd2-40c0-baab-dc1496048793",
   "metadata": {
    "executionInfo": {
     "elapsed": 86,
     "status": "ok",
     "timestamp": 1652460263635,
     "user": {
      "displayName": "Gautam Suri",
      "userId": "08970736233544068853"
     },
     "user_tz": -330
    },
    "id": "97c5dabe-dcd2-40c0-baab-dc1496048793"
   },
   "outputs": [],
   "source": [
    "def preprocess(tweet):\n",
    "    \n",
    "    tweet = re.sub(r\"http\\S+\", \" \", tweet)\n",
    "    \n",
    "    tweet = re.sub(r\"@\\S+\", \" \", tweet)\n",
    "    \n",
    "    tweet = re.sub(r\"RT\", \" \", tweet)\n",
    "    \n",
    "    tweet = re.sub(r\"\\_\", \" \", tweet)\n",
    "    tweet = re.sub(r\"^https://t.co/[a-zA-Z0-9]*\\s\", \" \", tweet)\n",
    "    tweet = re.sub(r\"\\s+https://t.co/[a-zA-Z0-9]*\\s\", \" \", tweet)\n",
    "    tweet = re.sub(r\"\\s+https://t.co/[a-zA-Z0-9]*$\", \" \", tweet)\n",
    "    tweet = tweet.lower()\n",
    "    tweet = re.sub(r\"that's\",\"that is\",tweet)\n",
    "    tweet = re.sub(r\"there's\",\"there is\",tweet)\n",
    "    tweet = re.sub(r\"what's\",\"what is\",tweet)\n",
    "    tweet = re.sub(r\"where's\",\"where is\",tweet)\n",
    "    tweet = re.sub(r\"it's\",\"it is\",tweet)\n",
    "    tweet = re.sub(r\"who's\",\"who is\",tweet)\n",
    "    tweet = re.sub(r\"i'm\",\"i am\",tweet)\n",
    "    tweet = re.sub(r\"she's\",\"she is\",tweet)\n",
    "    tweet = re.sub(r\"he's\",\"he is\",tweet)\n",
    "    tweet = re.sub(r\"they're\",\"they are\",tweet)\n",
    "    tweet = re.sub(r\"who're\",\"who are\",tweet)\n",
    "    tweet = re.sub(r\"ain't\",\"am not\",tweet)\n",
    "    tweet = re.sub(r\"wouldn't\",\"would not\",tweet)\n",
    "    tweet = re.sub(r\"shouldn't\",\"should not\",tweet)\n",
    "    tweet = re.sub(r\"can't\",\"can not\",tweet)\n",
    "    tweet = re.sub(r\"couldn't\",\"could not\",tweet)\n",
    "    tweet = re.sub(r\"won't\",\"will not\",tweet)\n",
    "    tweet = re.sub(r\"\\W\",\" \",tweet)\n",
    "    \n",
    "    tweet=re.sub(r\"\\b[a-z]\\b\",\" \",tweet)\n",
    "    tweet = re.sub(r\"\\d\",\" \",tweet)\n",
    "    tweet = re.sub(r\"\\s+[a-z]\\s+\",\" \",tweet)\n",
    "    tweet = re.sub(r\"\\s+[a-z]$\",\" \",tweet)\n",
    "    tweet = re.sub(r\"^[a-z]\\s+\",\" \",tweet)\n",
    "    tweet = re.sub(r\"\\s+\",\" \",tweet)\n",
    "    \n",
    "    \n",
    "    return tweet\n",
    "\n",
    "def clean_tweet(tweet):\n",
    "    \n",
    "    tweet=unicodedata.normalize('NFC', tweet).encode('ascii','replace')\n",
    "    tweet=tweet.decode('utf8')\n",
    "    tweet=preprocess(tweet)\n",
    "    return tweet\n"
   ]
  },
  {
   "cell_type": "code",
   "execution_count": 9,
   "id": "7552878e-f1dc-4440-b096-87da6f71c96f",
   "metadata": {
    "executionInfo": {
     "elapsed": 2316,
     "status": "ok",
     "timestamp": 1652460265866,
     "user": {
      "displayName": "Gautam Suri",
      "userId": "08970736233544068853"
     },
     "user_tz": -330
    },
    "id": "7552878e-f1dc-4440-b096-87da6f71c96f"
   },
   "outputs": [],
   "source": [
    "df[\"content2\"]=df[\"content\"].apply(preprocess)"
   ]
  },
  {
   "cell_type": "code",
   "execution_count": 10,
   "id": "638fe204-9c82-43ea-93a6-7ce91a81e9a3",
   "metadata": {
    "colab": {
     "base_uri": "https://localhost:8080/"
    },
    "executionInfo": {
     "elapsed": 109,
     "status": "ok",
     "timestamp": 1652460265870,
     "user": {
      "displayName": "Gautam Suri",
      "userId": "08970736233544068853"
     },
     "user_tz": -330
    },
    "id": "638fe204-9c82-43ea-93a6-7ce91a81e9a3",
    "outputId": "a403b297-38e7-42f7-b791-b52e185d9783"
   },
   "outputs": [
    {
     "name": "stdout",
     "output_type": "stream",
     "text": [
      "                                                content2\n",
      "0       know was listenin to bad habit earlier and st...\n",
      "1      layin bed with headache ughhhh waitin on your ...\n",
      "2                        funeral ceremony gloomy friday \n",
      "3                   wants to hang out with friends soon \n",
      "4       we want to trade with someone who has houston...\n",
      "...                                                  ...\n",
      "39995                                                   \n",
      "39996                      happy mothers day all my love\n",
      "39997  happy mother day to all the mommies out there ...\n",
      "39998   wassup beautiful follow me peep out my new hi...\n",
      "39999   bullet train from tokyo the gf and have been ...\n",
      "\n",
      "[40000 rows x 1 columns]\n"
     ]
    }
   ],
   "source": [
    "print(df[['content2']])"
   ]
  },
  {
   "cell_type": "code",
   "execution_count": 11,
   "id": "47b1e68c-bd6d-4944-80c9-0d30e4dc4c07",
   "metadata": {
    "executionInfo": {
     "elapsed": 93,
     "status": "ok",
     "timestamp": 1652460265871,
     "user": {
      "displayName": "Gautam Suri",
      "userId": "08970736233544068853"
     },
     "user_tz": -330
    },
    "id": "47b1e68c-bd6d-4944-80c9-0d30e4dc4c07"
   },
   "outputs": [],
   "source": [
    "def replace(label):\n",
    "    if label in [\"anger\",\"boredom\",\"empty\",\"hate\",\"sadness\",\"worry\"]:\n",
    "        return 0\n",
    "    else:\n",
    "        return 1\n",
    "        \n",
    "        "
   ]
  },
  {
   "cell_type": "code",
   "execution_count": 12,
   "id": "132e5914-376f-4d2b-86be-4824ca2a88c2",
   "metadata": {
    "colab": {
     "base_uri": "https://localhost:8080/"
    },
    "executionInfo": {
     "elapsed": 107,
     "status": "ok",
     "timestamp": 1652460265890,
     "user": {
      "displayName": "Gautam Suri",
      "userId": "08970736233544068853"
     },
     "user_tz": -330
    },
    "id": "132e5914-376f-4d2b-86be-4824ca2a88c2",
    "outputId": "91091a5e-a9db-4ba9-8783-058133b64229"
   },
   "outputs": [
    {
     "name": "stdout",
     "output_type": "stream",
     "text": [
      "       sentiment2\n",
      "0               0\n",
      "1               0\n",
      "2               0\n",
      "3               1\n",
      "4               1\n",
      "...           ...\n",
      "39995           1\n",
      "39996           1\n",
      "39997           1\n",
      "39998           1\n",
      "39999           1\n",
      "\n",
      "[40000 rows x 1 columns]\n"
     ]
    }
   ],
   "source": [
    "df[\"sentiment2\"]=df[\"sentiment\"].apply(replace)\n",
    "print(df[['sentiment2']])"
   ]
  },
  {
   "cell_type": "code",
   "execution_count": 13,
   "id": "ae9f9f38-4390-4bc6-b34b-125c801a872f",
   "metadata": {
    "executionInfo": {
     "elapsed": 94,
     "status": "ok",
     "timestamp": 1652460265893,
     "user": {
      "displayName": "Gautam Suri",
      "userId": "08970736233544068853"
     },
     "user_tz": -330
    },
    "id": "ae9f9f38-4390-4bc6-b34b-125c801a872f"
   },
   "outputs": [],
   "source": [
    "df.drop(['tweet_id'], axis=1,inplace=True)\n",
    "df.drop(['author'], axis=1,inplace=True)\n",
    "df.drop(['content'], axis=1,inplace=True)\n",
    "df.drop(['sentiment'], axis=1,inplace=True)"
   ]
  },
  {
   "cell_type": "code",
   "execution_count": 14,
   "id": "e6e7d5d4-d9d0-4752-884e-aebc830fbac7",
   "metadata": {
    "colab": {
     "base_uri": "https://localhost:8080/",
     "height": 206
    },
    "executionInfo": {
     "elapsed": 96,
     "status": "ok",
     "timestamp": 1652460265898,
     "user": {
      "displayName": "Gautam Suri",
      "userId": "08970736233544068853"
     },
     "user_tz": -330
    },
    "id": "e6e7d5d4-d9d0-4752-884e-aebc830fbac7",
    "outputId": "fb8b34d2-56da-4abc-94e1-83051f1f4a5d"
   },
   "outputs": [
    {
     "data": {
      "text/html": [
       "<div>\n",
       "<style scoped>\n",
       "    .dataframe tbody tr th:only-of-type {\n",
       "        vertical-align: middle;\n",
       "    }\n",
       "\n",
       "    .dataframe tbody tr th {\n",
       "        vertical-align: top;\n",
       "    }\n",
       "\n",
       "    .dataframe thead th {\n",
       "        text-align: right;\n",
       "    }\n",
       "</style>\n",
       "<table border=\"1\" class=\"dataframe\">\n",
       "  <thead>\n",
       "    <tr style=\"text-align: right;\">\n",
       "      <th></th>\n",
       "      <th>content2</th>\n",
       "      <th>sentiment2</th>\n",
       "    </tr>\n",
       "  </thead>\n",
       "  <tbody>\n",
       "    <tr>\n",
       "      <th>0</th>\n",
       "      <td>know was listenin to bad habit earlier and st...</td>\n",
       "      <td>0</td>\n",
       "    </tr>\n",
       "    <tr>\n",
       "      <th>1</th>\n",
       "      <td>layin bed with headache ughhhh waitin on your ...</td>\n",
       "      <td>0</td>\n",
       "    </tr>\n",
       "    <tr>\n",
       "      <th>2</th>\n",
       "      <td>funeral ceremony gloomy friday</td>\n",
       "      <td>0</td>\n",
       "    </tr>\n",
       "    <tr>\n",
       "      <th>3</th>\n",
       "      <td>wants to hang out with friends soon</td>\n",
       "      <td>1</td>\n",
       "    </tr>\n",
       "    <tr>\n",
       "      <th>4</th>\n",
       "      <td>we want to trade with someone who has houston...</td>\n",
       "      <td>1</td>\n",
       "    </tr>\n",
       "  </tbody>\n",
       "</table>\n",
       "</div>"
      ],
      "text/plain": [
       "                                            content2  sentiment2\n",
       "0   know was listenin to bad habit earlier and st...           0\n",
       "1  layin bed with headache ughhhh waitin on your ...           0\n",
       "2                    funeral ceremony gloomy friday            0\n",
       "3               wants to hang out with friends soon            1\n",
       "4   we want to trade with someone who has houston...           1"
      ]
     },
     "execution_count": 14,
     "metadata": {},
     "output_type": "execute_result"
    }
   ],
   "source": [
    "df.head()"
   ]
  },
  {
   "cell_type": "code",
   "execution_count": 15,
   "id": "DtJTNOgQcvDS",
   "metadata": {
    "colab": {
     "base_uri": "https://localhost:8080/"
    },
    "executionInfo": {
     "elapsed": 87,
     "status": "ok",
     "timestamp": 1652460265899,
     "user": {
      "displayName": "Gautam Suri",
      "userId": "08970736233544068853"
     },
     "user_tz": -330
    },
    "id": "DtJTNOgQcvDS",
    "outputId": "538db2fa-5a53-4c83-cf9a-665f03e114c5"
   },
   "outputs": [
    {
     "data": {
      "text/plain": [
       "1    23937\n",
       "0    16063\n",
       "Name: sentiment2, dtype: int64"
      ]
     },
     "execution_count": 15,
     "metadata": {},
     "output_type": "execute_result"
    }
   ],
   "source": [
    "df['sentiment2'].value_counts()"
   ]
  },
  {
   "cell_type": "code",
   "execution_count": 16,
   "id": "I6hpY0NUbnQE",
   "metadata": {
    "colab": {
     "base_uri": "https://localhost:8080/",
     "height": 282
    },
    "executionInfo": {
     "elapsed": 85,
     "status": "ok",
     "timestamp": 1652460265903,
     "user": {
      "displayName": "Gautam Suri",
      "userId": "08970736233544068853"
     },
     "user_tz": -330
    },
    "id": "I6hpY0NUbnQE",
    "outputId": "725f448a-9b9a-48d4-8d15-3c0056dcaca9"
   },
   "outputs": [
    {
     "data": {
      "text/plain": [
       "<AxesSubplot:>"
      ]
     },
     "execution_count": 16,
     "metadata": {},
     "output_type": "execute_result"
    },
    {
     "data": {
      "image/png": "[encoded data removed]",
      "text/plain": [
       "<Figure size 864x288 with 1 Axes>"
      ]
     },
     "metadata": {
      "needs_background": "light"
     },
     "output_type": "display_data"
    }
   ],
   "source": [
    "import matplotlib.pyplot as plt\n",
    "plt.figure(figsize=(12, 4))\n",
    "df['sentiment2'].value_counts().plot(kind='bar', color=[\"orange\", \"blue\"])"
   ]
  },
  {
   "cell_type": "code",
   "execution_count": 17,
   "id": "823d33f7-9b83-450b-a80f-bc08606961bf",
   "metadata": {
    "executionInfo": {
     "elapsed": 1189,
     "status": "ok",
     "timestamp": 1652460267014,
     "user": {
      "displayName": "Gautam Suri",
      "userId": "08970736233544068853"
     },
     "user_tz": -330
    },
    "id": "823d33f7-9b83-450b-a80f-bc08606961bf"
   },
   "outputs": [],
   "source": [
    "from sklearn.feature_extraction.text import TfidfVectorizer\n",
    "vectorizer = TfidfVectorizer(max_features = 2000,stop_words = stopwords.words('english'))\n",
    "X = vectorizer.fit_transform(df[\"content2\"]).toarray()\n",
    "y=df[\"sentiment2\"]"
   ]
  },
  {
   "cell_type": "code",
   "execution_count": 18,
   "id": "f10e7b37-a075-4eaa-aec8-f7e6b64da119",
   "metadata": {
    "colab": {
     "base_uri": "https://localhost:8080/"
    },
    "executionInfo": {
     "elapsed": 30,
     "status": "ok",
     "timestamp": 1652460267015,
     "user": {
      "displayName": "Gautam Suri",
      "userId": "08970736233544068853"
     },
     "user_tz": -330
    },
    "id": "f10e7b37-a075-4eaa-aec8-f7e6b64da119",
    "outputId": "f0844d28-0431-4062-edc1-370539257d12"
   },
   "outputs": [
    {
     "name": "stdout",
     "output_type": "stream",
     "text": [
      "[[0. 0. 0. ... 0. 0. 0.]\n",
      " [0. 0. 0. ... 0. 0. 0.]\n",
      " [0. 0. 0. ... 0. 0. 0.]\n",
      " ...\n",
      " [0. 0. 0. ... 0. 0. 0.]\n",
      " [0. 0. 0. ... 0. 0. 0.]\n",
      " [0. 0. 0. ... 0. 0. 0.]]\n"
     ]
    }
   ],
   "source": [
    "print(X)"
   ]
  },
  {
   "cell_type": "code",
   "execution_count": 19,
   "id": "f9afd92a-6de0-4cf6-8fda-95322b1af963",
   "metadata": {
    "colab": {
     "base_uri": "https://localhost:8080/"
    },
    "executionInfo": {
     "elapsed": 18,
     "status": "ok",
     "timestamp": 1652460267016,
     "user": {
      "displayName": "Gautam Suri",
      "userId": "08970736233544068853"
     },
     "user_tz": -330
    },
    "id": "f9afd92a-6de0-4cf6-8fda-95322b1af963",
    "outputId": "e980dc52-3410-4838-b34a-5d9726ed5752"
   },
   "outputs": [
    {
     "name": "stdout",
     "output_type": "stream",
     "text": [
      "0        0\n",
      "1        0\n",
      "2        0\n",
      "3        1\n",
      "4        1\n",
      "        ..\n",
      "39995    1\n",
      "39996    1\n",
      "39997    1\n",
      "39998    1\n",
      "39999    1\n",
      "Name: sentiment2, Length: 40000, dtype: int64\n"
     ]
    }
   ],
   "source": [
    "print(y)"
   ]
  },
  {
   "cell_type": "code",
   "execution_count": 20,
   "id": "0176bbb1-9d35-4916-834b-fe9c876fcbc1",
   "metadata": {
    "executionInfo": {
     "elapsed": 710,
     "status": "ok",
     "timestamp": 1652460267718,
     "user": {
      "displayName": "Gautam Suri",
      "userId": "08970736233544068853"
     },
     "user_tz": -330
    },
    "id": "0176bbb1-9d35-4916-834b-fe9c876fcbc1"
   },
   "outputs": [],
   "source": [
    "from sklearn.model_selection import train_test_split\n",
    "text_train, text_test, sent_train, sent_test = train_test_split(X, y, test_size = 0.20, random_state = 0)"
   ]
  },
  {
   "cell_type": "code",
   "execution_count": 21,
   "id": "1XG07Ed_AB-y",
   "metadata": {
    "colab": {
     "base_uri": "https://localhost:8080/"
    },
    "executionInfo": {
     "elapsed": 4757,
     "status": "ok",
     "timestamp": 1652460272462,
     "user": {
      "displayName": "Gautam Suri",
      "userId": "08970736233544068853"
     },
     "user_tz": -330
    },
    "id": "1XG07Ed_AB-y",
    "outputId": "24a53b6a-eae5-4076-a10f-47cd873ba4b6"
   },
   "outputs": [
    {
     "data": {
      "text/plain": [
       "LogisticRegression(random_state=0)"
      ]
     },
     "execution_count": 21,
     "metadata": {},
     "output_type": "execute_result"
    }
   ],
   "source": [
    "from sklearn.linear_model import LogisticRegression\n",
    "classifier1 = LogisticRegression(random_state=0)\n",
    "classifier1.fit(text_train,sent_train)\n"
   ]
  },
  {
   "cell_type": "code",
   "execution_count": 22,
   "id": "INf8S5KEBcbb",
   "metadata": {
    "colab": {
     "base_uri": "https://localhost:8080/"
    },
    "executionInfo": {
     "elapsed": 439,
     "status": "ok",
     "timestamp": 1652460504188,
     "user": {
      "displayName": "Gautam Suri",
      "userId": "08970736233544068853"
     },
     "user_tz": -330
    },
    "id": "INf8S5KEBcbb",
    "outputId": "2836f3c0-691e-45be-dabf-63ff0f12cf41"
   },
   "outputs": [],
   "source": [
    "#s=classifier1.predict(text_train)\n",
    "#round(classifier1.score(text_train,sent_train), 4)\n",
    "\n"
   ]
  },
  {
   "cell_type": "code",
   "execution_count": 23,
   "id": "NJ9bVtuyACHy",
   "metadata": {
    "colab": {
     "base_uri": "https://localhost:8080/"
    },
    "executionInfo": {
     "elapsed": 46668,
     "status": "ok",
     "timestamp": 1652460319110,
     "user": {
      "displayName": "Gautam Suri",
      "userId": "08970736233544068853"
     },
     "user_tz": -330
    },
    "id": "NJ9bVtuyACHy",
    "outputId": "22edeb62-738f-4bd4-81a4-e2d748413938"
   },
   "outputs": [
    {
     "data": {
      "text/plain": [
       "0.7134"
      ]
     },
     "execution_count": 23,
     "metadata": {},
     "output_type": "execute_result"
    }
   ],
   "source": [
    "#k fold cross validation\n",
    "from sklearn.model_selection import cross_val_score\n",
    "scores1 = cross_val_score(classifier1, text_train, sent_train, cv=10)\n",
    "\n",
    "round(scores1.mean(), 4)\n"
   ]
  },
  {
   "cell_type": "code",
   "execution_count": 24,
   "id": "mWoYhR_gACO3",
   "metadata": {
    "colab": {
     "base_uri": "https://localhost:8080/"
    },
    "executionInfo": {
     "elapsed": 39,
     "status": "ok",
     "timestamp": 1652460319111,
     "user": {
      "displayName": "Gautam Suri",
      "userId": "08970736233544068853"
     },
     "user_tz": -330
    },
    "id": "mWoYhR_gACO3",
    "outputId": "8ab5d2ca-b42b-4ce9-9b9e-05b69ecc37e8"
   },
   "outputs": [
    {
     "name": "stdout",
     "output_type": "stream",
     "text": [
      "[[1641 1569]\n",
      " [ 776 4014]]\n"
     ]
    }
   ],
   "source": [
    "sent_pred1 = classifier1.predict(text_test)\n",
    "\n",
    "\n",
    "from sklearn.metrics import confusion_matrix, classification_report\n",
    "cm1 = confusion_matrix(sent_test, sent_pred1)\n",
    "\n",
    "print(cm1)\n",
    "#classifier score\n",
    "\n"
   ]
  },
  {
   "cell_type": "code",
   "execution_count": 25,
   "id": "bImCNLPARnoa",
   "metadata": {
    "colab": {
     "base_uri": "https://localhost:8080/"
    },
    "executionInfo": {
     "elapsed": 34,
     "status": "ok",
     "timestamp": 1652460319111,
     "user": {
      "displayName": "Gautam Suri",
      "userId": "08970736233544068853"
     },
     "user_tz": -330
    },
    "id": "bImCNLPARnoa",
    "outputId": "3f1b1c37-bcd3-4866-ac4f-7cc3f59caef1"
   },
   "outputs": [
    {
     "data": {
      "text/plain": [
       "0.7069"
      ]
     },
     "execution_count": 25,
     "metadata": {},
     "output_type": "execute_result"
    }
   ],
   "source": [
    "round(classifier1.score(text_test,sent_test), 4)"
   ]
  },
  {
   "cell_type": "code",
   "execution_count": 26,
   "id": "CKQcPjl3o2jf",
   "metadata": {
    "executionInfo": {
     "elapsed": 29,
     "status": "ok",
     "timestamp": 1652460319112,
     "user": {
      "displayName": "Gautam Suri",
      "userId": "08970736233544068853"
     },
     "user_tz": -330
    },
    "id": "CKQcPjl3o2jf"
   },
   "outputs": [],
   "source": [
    "#import sklearn\n",
    "#sklearn.metrics.accuracy_score(sent_test, sent_pred1)\n",
    "#sklearn.metrics.precision_score(sent_test, sent_pred1)\n"
   ]
  },
  {
   "cell_type": "code",
   "execution_count": 27,
   "id": "8jmmECyeqat_",
   "metadata": {
    "colab": {
     "base_uri": "https://localhost:8080/"
    },
    "executionInfo": {
     "elapsed": 29,
     "status": "ok",
     "timestamp": 1652460319113,
     "user": {
      "displayName": "Gautam Suri",
      "userId": "08970736233544068853"
     },
     "user_tz": -330
    },
    "id": "8jmmECyeqat_",
    "outputId": "586d8bb3-d641-4edb-8571-744391e203aa"
   },
   "outputs": [
    {
     "name": "stdout",
     "output_type": "stream",
     "text": [
      "              precision    recall  f1-score   support\n",
      "\n",
      "           0       0.68      0.51      0.58      3210\n",
      "           1       0.72      0.84      0.77      4790\n",
      "\n",
      "    accuracy                           0.71      8000\n",
      "   macro avg       0.70      0.67      0.68      8000\n",
      "weighted avg       0.70      0.71      0.70      8000\n",
      "\n"
     ]
    }
   ],
   "source": [
    "print(classification_report(sent_test, sent_pred1))"
   ]
  },
  {
   "cell_type": "code",
   "execution_count": 42,
   "id": "C0wTYdUMbLI7",
   "metadata": {
    "colab": {
     "base_uri": "https://localhost:8080/"
    },
    "executionInfo": {
     "elapsed": 24,
     "status": "ok",
     "timestamp": 1652460319113,
     "user": {
      "displayName": "Gautam Suri",
      "userId": "08970736233544068853"
     },
     "user_tz": -330
    },
    "id": "C0wTYdUMbLI7",
    "outputId": "db16beae-4aaf-4aca-9028-487bd32c1e0f"
   },
   "outputs": [
    {
     "data": {
      "text/plain": [
       "1"
      ]
     },
     "execution_count": 42,
     "metadata": {},
     "output_type": "execute_result"
    }
   ],
   "source": [
    "\n",
    "sample = [\"Went to a bar - they said they don't allow stags! When will discrimination end in India?\"]\n",
    "sample = vectorizer.transform(sample).toarray()\n",
    "sentiment = classifier2.predict(sample)\n",
    "sentiment[0]\n",
    "\n"
   ]
  },
  {
   "cell_type": "code",
   "execution_count": null,
   "id": "QtN4G5-PpdDE",
   "metadata": {
    "executionInfo": {
     "elapsed": 20,
     "status": "ok",
     "timestamp": 1652460319114,
     "user": {
      "displayName": "Gautam Suri",
      "userId": "08970736233544068853"
     },
     "user_tz": -330
    },
    "id": "QtN4G5-PpdDE"
   },
   "outputs": [],
   "source": []
  },
  {
   "cell_type": "code",
   "execution_count": 30,
   "id": "I5GHTFIocOl9",
   "metadata": {
    "colab": {
     "base_uri": "https://localhost:8080/"
    },
    "executionInfo": {
     "elapsed": 19,
     "status": "ok",
     "timestamp": 1652460319114,
     "user": {
      "displayName": "Gautam Suri",
      "userId": "08970736233544068853"
     },
     "user_tz": -330
    },
    "id": "I5GHTFIocOl9",
    "outputId": "9918aae5-5468-41ca-88d2-3bbae8c0bdcd"
   },
   "outputs": [
    {
     "data": {
      "text/plain": [
       "0       0\n",
       "1       0\n",
       "2       0\n",
       "3       0\n",
       "4       1\n",
       "       ..\n",
       "7995    1\n",
       "7996    0\n",
       "7997    1\n",
       "7998    1\n",
       "7999    1\n",
       "Length: 8000, dtype: int64"
      ]
     },
     "execution_count": 30,
     "metadata": {},
     "output_type": "execute_result"
    }
   ],
   "source": [
    "sent_pred1=pd.Series(sent_pred1)\n",
    "sent_pred1"
   ]
  },
  {
   "cell_type": "code",
   "execution_count": 31,
   "id": "teOoxILcbYKD",
   "metadata": {
    "colab": {
     "base_uri": "https://localhost:8080/"
    },
    "executionInfo": {
     "elapsed": 678,
     "status": "ok",
     "timestamp": 1652460319778,
     "user": {
      "displayName": "Gautam Suri",
      "userId": "08970736233544068853"
     },
     "user_tz": -330
    },
    "id": "teOoxILcbYKD",
    "outputId": "2b78d0c8-d0da-45b2-bf49-68049dd222f6"
   },
   "outputs": [
    {
     "data": {
      "text/plain": [
       "MultinomialNB()"
      ]
     },
     "execution_count": 31,
     "metadata": {},
     "output_type": "execute_result"
    }
   ],
   "source": [
    "\n",
    "from sklearn.naive_bayes import MultinomialNB\n",
    "classifier2 = MultinomialNB()\n",
    "classifier2.fit(text_train,sent_train)\n",
    "  \n"
   ]
  },
  {
   "cell_type": "code",
   "execution_count": 32,
   "id": "an9S5nSIbX3c",
   "metadata": {
    "colab": {
     "base_uri": "https://localhost:8080/"
    },
    "executionInfo": {
     "elapsed": 3449,
     "status": "ok",
     "timestamp": 1652460323212,
     "user": {
      "displayName": "Gautam Suri",
      "userId": "08970736233544068853"
     },
     "user_tz": -330
    },
    "id": "an9S5nSIbX3c",
    "outputId": "598c52db-0df7-4564-cba5-533b3544fd4b"
   },
   "outputs": [
    {
     "data": {
      "text/plain": [
       "0.7083"
      ]
     },
     "execution_count": 32,
     "metadata": {},
     "output_type": "execute_result"
    }
   ],
   "source": [
    "#k fold cross validation\n",
    "from sklearn.model_selection import cross_val_score\n",
    "scores2 = cross_val_score(classifier2, text_train, sent_train, cv=10)\n",
    "\n",
    "round(scores2.mean(), 4)\n"
   ]
  },
  {
   "cell_type": "code",
   "execution_count": 33,
   "id": "iYlgRB8Wr33C",
   "metadata": {
    "colab": {
     "base_uri": "https://localhost:8080/"
    },
    "executionInfo": {
     "elapsed": 77,
     "status": "ok",
     "timestamp": 1652460323213,
     "user": {
      "displayName": "Gautam Suri",
      "userId": "08970736233544068853"
     },
     "user_tz": -330
    },
    "id": "iYlgRB8Wr33C",
    "outputId": "2baecca9-56a5-44f4-da5e-89064f1db8bf"
   },
   "outputs": [
    {
     "name": "stdout",
     "output_type": "stream",
     "text": [
      "[[1472 1738]\n",
      " [ 631 4159]]\n"
     ]
    }
   ],
   "source": [
    "sent_pred2 = classifier2.predict(text_test)\n",
    "\n",
    "\n",
    "from sklearn.metrics import confusion_matrix, classification_report\n",
    "cm2 = confusion_matrix(sent_test, sent_pred2)\n",
    "\n",
    "print(cm2)"
   ]
  },
  {
   "cell_type": "code",
   "execution_count": 34,
   "id": "ikrlK6c7sQik",
   "metadata": {
    "colab": {
     "base_uri": "https://localhost:8080/"
    },
    "executionInfo": {
     "elapsed": 67,
     "status": "ok",
     "timestamp": 1652460323214,
     "user": {
      "displayName": "Gautam Suri",
      "userId": "08970736233544068853"
     },
     "user_tz": -330
    },
    "id": "ikrlK6c7sQik",
    "outputId": "2ccdf9b0-a7d3-4f73-c4f9-acc8a6b1c6cb"
   },
   "outputs": [
    {
     "data": {
      "text/plain": [
       "0.7039"
      ]
     },
     "execution_count": 34,
     "metadata": {},
     "output_type": "execute_result"
    }
   ],
   "source": [
    "round(classifier2.score(text_test,sent_test), 4)"
   ]
  },
  {
   "cell_type": "code",
   "execution_count": 35,
   "id": "e0DlbZYlsQnh",
   "metadata": {
    "colab": {
     "base_uri": "https://localhost:8080/"
    },
    "executionInfo": {
     "elapsed": 54,
     "status": "ok",
     "timestamp": 1652460323214,
     "user": {
      "displayName": "Gautam Suri",
      "userId": "08970736233544068853"
     },
     "user_tz": -330
    },
    "id": "e0DlbZYlsQnh",
    "outputId": "6917a456-c1d2-4bcd-b395-9cdc9c30db2c"
   },
   "outputs": [
    {
     "name": "stdout",
     "output_type": "stream",
     "text": [
      "              precision    recall  f1-score   support\n",
      "\n",
      "           0       0.70      0.46      0.55      3210\n",
      "           1       0.71      0.87      0.78      4790\n",
      "\n",
      "    accuracy                           0.70      8000\n",
      "   macro avg       0.70      0.66      0.67      8000\n",
      "weighted avg       0.70      0.70      0.69      8000\n",
      "\n"
     ]
    }
   ],
   "source": [
    "print(classification_report(sent_test, sent_pred2))"
   ]
  },
  {
   "cell_type": "code",
   "execution_count": 36,
   "id": "Ekkq3EcqbXne",
   "metadata": {
    "colab": {
     "base_uri": "https://localhost:8080/"
    },
    "executionInfo": {
     "elapsed": 677,
     "status": "ok",
     "timestamp": 1652460323852,
     "user": {
      "displayName": "Gautam Suri",
      "userId": "08970736233544068853"
     },
     "user_tz": -330
    },
    "id": "Ekkq3EcqbXne",
    "outputId": "0ed6d81f-d2b9-408d-e0dc-93f6fcb50818"
   },
   "outputs": [
    {
     "data": {
      "text/plain": [
       "GaussianNB()"
      ]
     },
     "execution_count": 36,
     "metadata": {},
     "output_type": "execute_result"
    }
   ],
   "source": [
    "from sklearn.naive_bayes import GaussianNB\n",
    "classifier3 = GaussianNB()\n",
    "classifier3.fit(text_train,sent_train)"
   ]
  },
  {
   "cell_type": "code",
   "execution_count": 37,
   "id": "MCaXVWYTY-m5",
   "metadata": {
    "colab": {
     "base_uri": "https://localhost:8080/"
    },
    "executionInfo": {
     "elapsed": 9188,
     "status": "ok",
     "timestamp": 1652460333027,
     "user": {
      "displayName": "Gautam Suri",
      "userId": "08970736233544068853"
     },
     "user_tz": -330
    },
    "id": "MCaXVWYTY-m5",
    "outputId": "b9e36a4a-72b2-446a-8b88-b839ccf3bae2"
   },
   "outputs": [
    {
     "data": {
      "text/plain": [
       "0.6352"
      ]
     },
     "execution_count": 37,
     "metadata": {},
     "output_type": "execute_result"
    }
   ],
   "source": [
    "#k fold cross validation\n",
    "from sklearn.model_selection import cross_val_score\n",
    "scores3 = cross_val_score(classifier3, text_train, sent_train, cv=10)\n",
    "\n",
    "round(scores3.mean(), 4)\n"
   ]
  },
  {
   "cell_type": "code",
   "execution_count": 38,
   "id": "gxduCNfUtIh7",
   "metadata": {
    "colab": {
     "base_uri": "https://localhost:8080/"
    },
    "executionInfo": {
     "elapsed": 34,
     "status": "ok",
     "timestamp": 1652460333028,
     "user": {
      "displayName": "Gautam Suri",
      "userId": "08970736233544068853"
     },
     "user_tz": -330
    },
    "id": "gxduCNfUtIh7",
    "outputId": "6ec7e1bd-619e-4003-e1f6-91c15b5601d4"
   },
   "outputs": [
    {
     "data": {
      "text/plain": [
       "array([[2085, 1125],\n",
       "       [1710, 3080]], dtype=int64)"
      ]
     },
     "execution_count": 38,
     "metadata": {},
     "output_type": "execute_result"
    }
   ],
   "source": [
    "sent_pred3 = classifier3.predict(text_test)\n",
    "\n",
    "\n",
    "from sklearn.metrics import confusion_matrix, classification_report\n",
    "cm3= confusion_matrix(sent_test, sent_pred3)\n",
    "\n",
    "cm3"
   ]
  },
  {
   "cell_type": "code",
   "execution_count": 39,
   "id": "NJxrNKk7tIuG",
   "metadata": {
    "colab": {
     "base_uri": "https://localhost:8080/"
    },
    "executionInfo": {
     "elapsed": 977,
     "status": "ok",
     "timestamp": 1652460333983,
     "user": {
      "displayName": "Gautam Suri",
      "userId": "08970736233544068853"
     },
     "user_tz": -330
    },
    "id": "NJxrNKk7tIuG",
    "outputId": "c9a2bbdd-11e4-4dde-860b-5251b44ab5b5"
   },
   "outputs": [
    {
     "data": {
      "text/plain": [
       "0.6456"
      ]
     },
     "execution_count": 39,
     "metadata": {},
     "output_type": "execute_result"
    }
   ],
   "source": [
    "round(classifier3.score(text_test,sent_test), 4)"
   ]
  },
  {
   "cell_type": "code",
   "execution_count": 40,
   "id": "FC3zgldhtZ6i",
   "metadata": {
    "colab": {
     "base_uri": "https://localhost:8080/"
    },
    "executionInfo": {
     "elapsed": 37,
     "status": "ok",
     "timestamp": 1652460333984,
     "user": {
      "displayName": "Gautam Suri",
      "userId": "08970736233544068853"
     },
     "user_tz": -330
    },
    "id": "FC3zgldhtZ6i",
    "outputId": "1a5fca8e-7645-4723-c47f-89cdc728b391"
   },
   "outputs": [
    {
     "name": "stdout",
     "output_type": "stream",
     "text": [
      "              precision    recall  f1-score   support\n",
      "\n",
      "           0       0.55      0.65      0.60      3210\n",
      "           1       0.73      0.64      0.68      4790\n",
      "\n",
      "    accuracy                           0.65      8000\n",
      "   macro avg       0.64      0.65      0.64      8000\n",
      "weighted avg       0.66      0.65      0.65      8000\n",
      "\n"
     ]
    }
   ],
   "source": [
    "print(classification_report(sent_test, sent_pred3))"
   ]
  },
  {
   "cell_type": "code",
   "execution_count": 41,
   "id": "EDjAGPf0ILAq",
   "metadata": {
    "executionInfo": {
     "elapsed": 19,
     "status": "ok",
     "timestamp": 1652460333984,
     "user": {
      "displayName": "Gautam Suri",
      "userId": "08970736233544068853"
     },
     "user_tz": -330
    },
    "id": "EDjAGPf0ILAq"
   },
   "outputs": [],
   "source": [
    "import pickle\n",
    " \n",
    "with open('multi.pkl', 'wb') as f:\n",
    "    pickle.dump(classifier2, f)"
   ]
  },
  {
   "cell_type": "code",
   "execution_count": 41,
   "id": "MMQZcxn2nn65",
   "metadata": {
    "executionInfo": {
     "elapsed": 761,
     "status": "ok",
     "timestamp": 1652460334728,
     "user": {
      "displayName": "Gautam Suri",
      "userId": "08970736233544068853"
     },
     "user_tz": -330
    },
    "id": "MMQZcxn2nn65"
   },
   "outputs": [],
   "source": [
    "with open('logis.pkl', 'wb') as f:\n",
    "    pickle.dump(classifier1, f)"
   ]
  },
  {
   "cell_type": "code",
   "execution_count": 42,
   "id": "f65635b6",
   "metadata": {},
   "outputs": [],
   "source": [
    "with open('gauss.pkl', 'wb') as f:\n",
    "    pickle.dump(classifier3, f)"
   ]
  },
  {
   "cell_type": "code",
   "execution_count": 43,
   "id": "5nTo_Vzf7zMJ",
   "metadata": {
    "id": "5nTo_Vzf7zMJ"
   },
   "outputs": [],
   "source": [
    "# Saving the Tf-Idf model\n",
    "with open('tfidfmodel.pickle','wb') as f:\n",
    "    pickle.dump(vectorizer,f)"
   ]
  }
 ],
 "metadata": {
  "colab": {
   "collapsed_sections": [],
   "name": "Untitled.ipynb",
   "provenance": []
  },
  "kernelspec": {
   "display_name": "Python 3 (ipykernel)",
   "language": "python",
   "name": "python3"
  },
  "language_info": {
   "codemirror_mode": {
    "name": "ipython",
    "version": 3
   },
   "file_extension": ".py",
   "mimetype": "text/x-python",
   "name": "python",
   "nbconvert_exporter": "python",
   "pygments_lexer": "ipython3",
   "version": "3.9.7"
  }
 },
 "nbformat": 4,
 "nbformat_minor": 5
}
